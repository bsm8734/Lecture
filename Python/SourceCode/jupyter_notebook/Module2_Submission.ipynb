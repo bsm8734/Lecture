{
 "cells": [
  {
   "cell_type": "code",
   "execution_count": null,
   "metadata": {},
   "outputs": [],
   "source": [
    "def list_o_matic(mylist, str):\n",
    "    msg = \"\"\n",
    "    # string empty? Y\n",
    "    if str==\"\": msg = mylist[-1] + \" popped from list\"\n",
    "    else: # string empty? N\n",
    "        if str in mylist:# string in list? Y\n",
    "                mylist.remove(str)\n",
    "                msg = \"1 instance of \" + str + \" removed from list\"\n",
    "        else: # string in list? N\n",
    "            mylist.append(str)\n",
    "            msg = \"1 instance of \" + str + \" appended from list\"\n",
    "    return msg"
   ]
  },
  {
   "cell_type": "code",
   "execution_count": null,
   "metadata": {},
   "outputs": [],
   "source": [
    "mylist = ['goat', 'bear']\n",
    "while True:\n",
    "    if len(mylist) == 0: break\n",
    "    else:\n",
    "        str = input()\n",
    "        if str.lower()==\"quit\": break\n",
    "        else :\n",
    "            ret = list_o_matic(mylist, str)\n",
    "            print(ret)\n",
    "print(\"Goodbye!\")"
   ]
  },
  {
   "cell_type": "code",
   "execution_count": null,
   "metadata": {},
   "outputs": [],
   "source": []
  },
  {
   "cell_type": "code",
   "execution_count": null,
   "metadata": {},
   "outputs": [],
   "source": []
  }
 ],
 "metadata": {
  "kernelspec": {
   "display_name": "Python 3",
   "language": "python",
   "name": "python3"
  },
  "language_info": {
   "codemirror_mode": {
    "name": "ipython",
    "version": 3
   },
   "file_extension": ".py",
   "mimetype": "text/x-python",
   "name": "python",
   "nbconvert_exporter": "python",
   "pygments_lexer": "ipython3",
   "version": "3.7.6"
  }
 },
 "nbformat": 4,
 "nbformat_minor": 4
}
